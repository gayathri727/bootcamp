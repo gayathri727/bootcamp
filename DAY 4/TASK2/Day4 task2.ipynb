{
 "cells": [
  {
   "cell_type": "code",
   "execution_count": null,
   "metadata": {},
   "outputs": [
    {
     "name": "stdout",
     "output_type": "stream",
     "text": [
      "\n",
      "📊 Distribution of Gender:\n",
      "Gender\n",
      "Male      55.333333\n",
      "Female    44.666667\n",
      "Name: proportion, dtype: float64\n",
      "\n",
      "📊 Distribution of SeniorCitizen:\n",
      "SeniorCitizen\n",
      "0    68.333333\n",
      "1    31.666667\n",
      "Name: proportion, dtype: float64\n",
      "\n",
      "📊 Distribution of PaymentMethod:\n",
      "PaymentMethod\n",
      "Electronic Check    27.333333\n",
      "Credit Card         27.000000\n",
      "Mailed Check        24.000000\n",
      "Bank Transfer       21.666667\n",
      "Name: proportion, dtype: float64\n",
      "\n",
      "⚠️ A list of columns causing bias in the dataset:\n",
      "['Gender', 'SeniorCitizen', 'PaymentMethod']\n"
     ]
    }
   ],
   "source": [
    "import pandas as pd\n",
    "\n",
    "# Load the dataset\n",
    "df = pd.read_csv(\"c:/Users/shruthi/Downloads/telco_customer_churn.csv\")\n",
    "\n",
    "# Check for potential bias columns\n",
    "bias_columns = [\"Gender\", \"SeniorCitizen\", \"PaymentMethod\"]\n",
    "\n",
    "# Check the distribution of these columns\n",
    "for col in bias_columns:\n",
    "    print(f\"\\n Distribution of {col}:\")\n",
    "    print(df[col].value_counts(normalize=True) * 100)  # Display percentage distribution\n",
    "\n",
    "# Identify columns that may introduce bias\n",
    "potential_bias = [col for col in bias_columns if df[col].nunique() < 5]\n",
    "\n",
    "# Print result in a clean format\n",
    "print(\"\\ n A list of columns causing bias in the dataset:\")\n",
    "print(potential_bias)\n"
   ]
  }
 ],
 "metadata": {
  "kernelspec": {
   "display_name": "Python 3",
   "language": "python",
   "name": "python3"
  },
  "language_info": {
   "codemirror_mode": {
    "name": "ipython",
    "version": 3
   },
   "file_extension": ".py",
   "mimetype": "text/x-python",
   "name": "python",
   "nbconvert_exporter": "python",
   "pygments_lexer": "ipython3",
   "version": "3.12.6"
  }
 },
 "nbformat": 4,
 "nbformat_minor": 2
}
