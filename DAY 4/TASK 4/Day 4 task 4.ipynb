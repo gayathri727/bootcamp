{
 "cells": [
  {
   "cell_type": "code",
   "execution_count": null,
   "metadata": {},
   "outputs": [
    {
     "name": "stdout",
     "output_type": "stream",
     "text": [
      "📌 Top Predictors of Customer Churn:\n",
      "Tenure               0.267652\n",
      "TotalCharges         0.204885\n",
      "Contract_One Year    0.104828\n",
      "Name: Churn, dtype: float64\n"
     ]
    }
   ],
   "source": [
    "import pandas as pd\n",
    "\n",
    "# Load the dataset\n",
    "df = pd.read_csv(\"c:/Users/shruthi/Downloads/customer_churn_extended.csv\")\n",
    "\n",
    "# Convert categorical columns to numeric using encoding\n",
    "df_encoded = df.copy()\n",
    "df_encoded = pd.get_dummies(df_encoded, columns=[\"Contract\"], drop_first=True)  # One-hot encode 'Contract'\n",
    "\n",
    "# Compute correlation with churn\n",
    "correlation = df_encoded.corr()[\"Churn\"].drop(\"Churn\")  # Drop self-correlation\n",
    "\n",
    "# Get top predictors (sorted by absolute correlation)\n",
    "top_predictors = correlation.abs().sort_values(ascending=False).head(3)\n",
    "\n",
    "# Print results\n",
    "print(\" Top Predictors of Customer Churn:\")\n",
    "print(top_predictors)\n"
   ]
  }
 ],
 "metadata": {
  "kernelspec": {
   "display_name": "Python 3",
   "language": "python",
   "name": "python3"
  },
  "language_info": {
   "codemirror_mode": {
    "name": "ipython",
    "version": 3
   },
   "file_extension": ".py",
   "mimetype": "text/x-python",
   "name": "python",
   "nbconvert_exporter": "python",
   "pygments_lexer": "ipython3",
   "version": "3.12.6"
  }
 },
 "nbformat": 4,
 "nbformat_minor": 2
}
