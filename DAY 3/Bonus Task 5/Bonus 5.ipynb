{
 "cells": [
  {
   "cell_type": "code",
   "execution_count": 2,
   "metadata": {},
   "outputs": [
    {
     "name": "stdout",
     "output_type": "stream",
     "text": [
      "Collecting plotly\n",
      "  Downloading plotly-6.0.0-py3-none-any.whl.metadata (5.6 kB)\n",
      "Collecting narwhals>=1.15.1 (from plotly)\n",
      "  Downloading narwhals-1.27.1-py3-none-any.whl.metadata (10 kB)\n",
      "Requirement already satisfied: packaging in c:\\users\\shruthi\\appdata\\local\\programs\\python\\python312\\lib\\site-packages (from plotly) (24.1)\n",
      "Downloading plotly-6.0.0-py3-none-any.whl (14.8 MB)\n",
      "   ---------------------------------------- 0.0/14.8 MB ? eta -:--:--\n",
      "   ---------------------------------------- 0.0/14.8 MB ? eta -:--:--\n",
      "   ---------------------------------------- 0.0/14.8 MB ? eta -:--:--\n",
      "   ---------------------------------------- 0.0/14.8 MB ? eta -:--:--\n",
      "    --------------------------------------- 0.3/14.8 MB ? eta -:--:--\n",
      "    --------------------------------------- 0.3/14.8 MB ? eta -:--:--\n",
      "    --------------------------------------- 0.3/14.8 MB ? eta -:--:--\n",
      "    --------------------------------------- 0.3/14.8 MB ? eta -:--:--\n",
      "    --------------------------------------- 0.3/14.8 MB ? eta -:--:--\n",
      "   - -------------------------------------- 0.5/14.8 MB 279.5 kB/s eta 0:00:52\n",
      "   -- ------------------------------------- 0.8/14.8 MB 441.3 kB/s eta 0:00:32\n",
      "   -- ------------------------------------- 0.8/14.8 MB 441.3 kB/s eta 0:00:32\n",
      "   -- ------------------------------------- 0.8/14.8 MB 441.3 kB/s eta 0:00:32\n",
      "   -- ------------------------------------- 0.8/14.8 MB 441.3 kB/s eta 0:00:32\n",
      "   -- ------------------------------------- 0.8/14.8 MB 441.3 kB/s eta 0:00:32\n",
      "   -- ------------------------------------- 1.0/14.8 MB 331.1 kB/s eta 0:00:42\n",
      "   -- ------------------------------------- 1.0/14.8 MB 331.1 kB/s eta 0:00:42\n",
      "   -- ------------------------------------- 1.0/14.8 MB 331.1 kB/s eta 0:00:42\n",
      "   --- ------------------------------------ 1.3/14.8 MB 345.8 kB/s eta 0:00:40\n",
      "   --- ------------------------------------ 1.3/14.8 MB 345.8 kB/s eta 0:00:40\n",
      "   --- ------------------------------------ 1.3/14.8 MB 345.8 kB/s eta 0:00:40\n",
      "   --- ------------------------------------ 1.3/14.8 MB 345.8 kB/s eta 0:00:40\n",
      "   --- ------------------------------------ 1.3/14.8 MB 345.8 kB/s eta 0:00:40\n",
      "   --- ------------------------------------ 1.3/14.8 MB 345.8 kB/s eta 0:00:40\n",
      "   --- ------------------------------------ 1.3/14.8 MB 345.8 kB/s eta 0:00:40\n",
      "   --- ------------------------------------ 1.3/14.8 MB 345.8 kB/s eta 0:00:40\n",
      "   ---- ----------------------------------- 1.6/14.8 MB 287.2 kB/s eta 0:00:47\n",
      "   ---- ----------------------------------- 1.6/14.8 MB 287.2 kB/s eta 0:00:47\n",
      "   ---- ----------------------------------- 1.6/14.8 MB 287.2 kB/s eta 0:00:47\n",
      "   ---- ----------------------------------- 1.6/14.8 MB 287.2 kB/s eta 0:00:47\n",
      "   ---- ----------------------------------- 1.6/14.8 MB 287.2 kB/s eta 0:00:47\n",
      "   ---- ----------------------------------- 1.6/14.8 MB 287.2 kB/s eta 0:00:47\n",
      "   ---- ----------------------------------- 1.6/14.8 MB 287.2 kB/s eta 0:00:47\n",
      "   ---- ----------------------------------- 1.8/14.8 MB 256.1 kB/s eta 0:00:51\n",
      "   ---- ----------------------------------- 1.8/14.8 MB 256.1 kB/s eta 0:00:51\n",
      "   ---- ----------------------------------- 1.8/14.8 MB 256.1 kB/s eta 0:00:51\n",
      "   ---- ----------------------------------- 1.8/14.8 MB 256.1 kB/s eta 0:00:51\n",
      "   ---- ----------------------------------- 1.8/14.8 MB 256.1 kB/s eta 0:00:51\n",
      "   ----- ---------------------------------- 2.1/14.8 MB 252.0 kB/s eta 0:00:51\n",
      "   ----- ---------------------------------- 2.1/14.8 MB 252.0 kB/s eta 0:00:51\n",
      "   ----- ---------------------------------- 2.1/14.8 MB 252.0 kB/s eta 0:00:51\n",
      "   ----- ---------------------------------- 2.1/14.8 MB 252.0 kB/s eta 0:00:51\n",
      "   ----- ---------------------------------- 2.1/14.8 MB 252.0 kB/s eta 0:00:51\n",
      "   ----- ---------------------------------- 2.1/14.8 MB 252.0 kB/s eta 0:00:51\n",
      "   ------ --------------------------------- 2.4/14.8 MB 245.4 kB/s eta 0:00:51\n",
      "   ------ --------------------------------- 2.4/14.8 MB 245.4 kB/s eta 0:00:51\n",
      "   ------ --------------------------------- 2.4/14.8 MB 245.4 kB/s eta 0:00:51\n",
      "   ------ --------------------------------- 2.4/14.8 MB 245.4 kB/s eta 0:00:51\n",
      "   ------ --------------------------------- 2.4/14.8 MB 245.4 kB/s eta 0:00:51\n",
      "   ------ --------------------------------- 2.4/14.8 MB 245.4 kB/s eta 0:00:51\n",
      "   ------ --------------------------------- 2.4/14.8 MB 245.4 kB/s eta 0:00:51\n",
      "   ------- -------------------------------- 2.6/14.8 MB 237.0 kB/s eta 0:00:52\n",
      "   ------- -------------------------------- 2.6/14.8 MB 237.0 kB/s eta 0:00:52\n",
      "   ------- -------------------------------- 2.6/14.8 MB 237.0 kB/s eta 0:00:52\n",
      "   ------- -------------------------------- 2.6/14.8 MB 237.0 kB/s eta 0:00:52\n",
      "   ------- -------------------------------- 2.9/14.8 MB 244.2 kB/s eta 0:00:49\n",
      "   ------- -------------------------------- 2.9/14.8 MB 244.2 kB/s eta 0:00:49\n",
      "   ------- -------------------------------- 2.9/14.8 MB 244.2 kB/s eta 0:00:49\n",
      "   ------- -------------------------------- 2.9/14.8 MB 244.2 kB/s eta 0:00:49\n",
      "   ------- -------------------------------- 2.9/14.8 MB 244.2 kB/s eta 0:00:49\n",
      "   ------- -------------------------------- 2.9/14.8 MB 244.2 kB/s eta 0:00:49\n",
      "   ------- -------------------------------- 2.9/14.8 MB 244.2 kB/s eta 0:00:49\n",
      "   -------- ------------------------------- 3.1/14.8 MB 234.5 kB/s eta 0:00:50\n",
      "   -------- ------------------------------- 3.1/14.8 MB 234.5 kB/s eta 0:00:50\n",
      "   -------- ------------------------------- 3.1/14.8 MB 234.5 kB/s eta 0:00:50\n",
      "   -------- ------------------------------- 3.1/14.8 MB 234.5 kB/s eta 0:00:50\n",
      "   -------- ------------------------------- 3.1/14.8 MB 234.5 kB/s eta 0:00:50\n",
      "   -------- ------------------------------- 3.1/14.8 MB 234.5 kB/s eta 0:00:50\n",
      "   -------- ------------------------------- 3.1/14.8 MB 234.5 kB/s eta 0:00:50\n",
      "   --------- ------------------------------ 3.4/14.8 MB 227.7 kB/s eta 0:00:51\n",
      "   --------- ------------------------------ 3.4/14.8 MB 227.7 kB/s eta 0:00:51\n",
      "   --------- ------------------------------ 3.4/14.8 MB 227.7 kB/s eta 0:00:51\n",
      "   --------- ------------------------------ 3.4/14.8 MB 227.7 kB/s eta 0:00:51\n",
      "   --------- ------------------------------ 3.4/14.8 MB 227.7 kB/s eta 0:00:51\n",
      "   --------- ------------------------------ 3.4/14.8 MB 227.7 kB/s eta 0:00:51\n",
      "   --------- ------------------------------ 3.7/14.8 MB 225.8 kB/s eta 0:00:50\n",
      "   --------- ------------------------------ 3.7/14.8 MB 225.8 kB/s eta 0:00:50\n",
      "   --------- ------------------------------ 3.7/14.8 MB 225.8 kB/s eta 0:00:50\n",
      "   --------- ------------------------------ 3.7/14.8 MB 225.8 kB/s eta 0:00:50\n",
      "   --------- ------------------------------ 3.7/14.8 MB 225.8 kB/s eta 0:00:50\n",
      "   ---------- ----------------------------- 3.9/14.8 MB 226.7 kB/s eta 0:00:48\n",
      "   ---------- ----------------------------- 3.9/14.8 MB 226.7 kB/s eta 0:00:48\n",
      "   ---------- ----------------------------- 3.9/14.8 MB 226.7 kB/s eta 0:00:48\n",
      "   ---------- ----------------------------- 3.9/14.8 MB 226.7 kB/s eta 0:00:48\n",
      "   ---------- ----------------------------- 3.9/14.8 MB 226.7 kB/s eta 0:00:48\n",
      "   ----------- ---------------------------- 4.2/14.8 MB 229.0 kB/s eta 0:00:47\n",
      "   ----------- ---------------------------- 4.2/14.8 MB 229.0 kB/s eta 0:00:47\n",
      "   ----------- ---------------------------- 4.2/14.8 MB 229.0 kB/s eta 0:00:47\n",
      "   ------------ --------------------------- 4.5/14.8 MB 236.1 kB/s eta 0:00:44\n",
      "   ------------ --------------------------- 4.5/14.8 MB 236.1 kB/s eta 0:00:44\n",
      "   ------------ --------------------------- 4.7/14.8 MB 244.4 kB/s eta 0:00:42\n",
      "   ------------- -------------------------- 5.0/14.8 MB 254.6 kB/s eta 0:00:39\n",
      "   -------------- ------------------------- 5.2/14.8 MB 266.1 kB/s eta 0:00:36\n",
      "   -------------- ------------------------- 5.5/14.8 MB 276.8 kB/s eta 0:00:34\n",
      "   --------------- ------------------------ 5.8/14.8 MB 287.6 kB/s eta 0:00:32\n",
      "   ---------------- ----------------------- 6.0/14.8 MB 298.1 kB/s eta 0:00:30\n",
      "   ---------------- ----------------------- 6.0/14.8 MB 298.1 kB/s eta 0:00:30\n",
      "   ---------------- ----------------------- 6.3/14.8 MB 307.0 kB/s eta 0:00:28\n",
      "   ----------------- ---------------------- 6.6/14.8 MB 317.0 kB/s eta 0:00:27\n",
      "   ------------------ --------------------- 6.8/14.8 MB 326.7 kB/s eta 0:00:25\n",
      "   ------------------- -------------------- 7.1/14.8 MB 336.3 kB/s eta 0:00:23\n",
      "   ------------------- -------------------- 7.3/14.8 MB 343.4 kB/s eta 0:00:22\n",
      "   ------------------- -------------------- 7.3/14.8 MB 343.4 kB/s eta 0:00:22\n",
      "   -------------------- ------------------- 7.6/14.8 MB 349.5 kB/s eta 0:00:21\n",
      "   --------------------- ------------------ 7.9/14.8 MB 357.7 kB/s eta 0:00:20\n",
      "   --------------------- ------------------ 7.9/14.8 MB 357.7 kB/s eta 0:00:20\n",
      "   --------------------- ------------------ 7.9/14.8 MB 357.7 kB/s eta 0:00:20\n",
      "   --------------------- ------------------ 8.1/14.8 MB 359.0 kB/s eta 0:00:19\n",
      "   --------------------- ------------------ 8.1/14.8 MB 359.0 kB/s eta 0:00:19\n",
      "   --------------------- ------------------ 8.1/14.8 MB 359.0 kB/s eta 0:00:19\n",
      "   --------------------- ------------------ 8.1/14.8 MB 359.0 kB/s eta 0:00:19\n",
      "   ---------------------- ----------------- 8.4/14.8 MB 357.0 kB/s eta 0:00:18\n",
      "   ---------------------- ----------------- 8.4/14.8 MB 357.0 kB/s eta 0:00:18\n",
      "   ---------------------- ----------------- 8.4/14.8 MB 357.0 kB/s eta 0:00:18\n",
      "   ----------------------- ---------------- 8.7/14.8 MB 359.8 kB/s eta 0:00:18\n",
      "   ------------------------ --------------- 8.9/14.8 MB 366.2 kB/s eta 0:00:17\n",
      "   ------------------------ --------------- 8.9/14.8 MB 366.2 kB/s eta 0:00:17\n",
      "   ------------------------ --------------- 9.2/14.8 MB 372.3 kB/s eta 0:00:16\n",
      "   ------------------------- -------------- 9.4/14.8 MB 379.6 kB/s eta 0:00:15\n",
      "   -------------------------- ------------- 9.7/14.8 MB 385.4 kB/s eta 0:00:14\n",
      "   -------------------------- ------------- 9.7/14.8 MB 385.4 kB/s eta 0:00:14\n",
      "   -------------------------- ------------- 10.0/14.8 MB 390.2 kB/s eta 0:00:13\n",
      "   -------------------------- ------------- 10.0/14.8 MB 390.2 kB/s eta 0:00:13\n",
      "   -------------------------- ------------- 10.0/14.8 MB 390.2 kB/s eta 0:00:13\n",
      "   --------------------------- ------------ 10.2/14.8 MB 390.4 kB/s eta 0:00:12\n",
      "   --------------------------- ------------ 10.2/14.8 MB 390.4 kB/s eta 0:00:12\n",
      "   --------------------------- ------------ 10.2/14.8 MB 390.4 kB/s eta 0:00:12\n",
      "   --------------------------- ------------ 10.2/14.8 MB 390.4 kB/s eta 0:00:12\n",
      "   ---------------------------- ----------- 10.5/14.8 MB 388.3 kB/s eta 0:00:12\n",
      "   ----------------------------- ---------- 10.7/14.8 MB 394.8 kB/s eta 0:00:11\n",
      "   ----------------------------- ---------- 11.0/14.8 MB 402.0 kB/s eta 0:00:10\n",
      "   ------------------------------ --------- 11.3/14.8 MB 407.3 kB/s eta 0:00:09\n",
      "   ------------------------------ --------- 11.3/14.8 MB 407.3 kB/s eta 0:00:09\n",
      "   ------------------------------- -------- 11.5/14.8 MB 411.5 kB/s eta 0:00:08\n",
      "   ------------------------------- -------- 11.5/14.8 MB 411.5 kB/s eta 0:00:08\n",
      "   ------------------------------- -------- 11.8/14.8 MB 416.1 kB/s eta 0:00:08\n",
      "   -------------------------------- ------- 12.1/14.8 MB 421.1 kB/s eta 0:00:07\n",
      "   -------------------------------- ------- 12.1/14.8 MB 421.1 kB/s eta 0:00:07\n",
      "   -------------------------------- ------- 12.1/14.8 MB 421.1 kB/s eta 0:00:07\n",
      "   -------------------------------- ------- 12.1/14.8 MB 421.1 kB/s eta 0:00:07\n",
      "   -------------------------------- ------- 12.1/14.8 MB 421.1 kB/s eta 0:00:07\n",
      "   --------------------------------- ------ 12.3/14.8 MB 414.5 kB/s eta 0:00:06\n",
      "   --------------------------------- ------ 12.3/14.8 MB 414.5 kB/s eta 0:00:06\n",
      "   --------------------------------- ------ 12.6/14.8 MB 417.7 kB/s eta 0:00:06\n",
      "   --------------------------------- ------ 12.6/14.8 MB 417.7 kB/s eta 0:00:06\n",
      "   --------------------------------- ------ 12.6/14.8 MB 417.7 kB/s eta 0:00:06\n",
      "   ---------------------------------- ----- 12.8/14.8 MB 422.3 kB/s eta 0:00:05\n",
      "   ---------------------------------- ----- 12.8/14.8 MB 422.3 kB/s eta 0:00:05\n",
      "   ----------------------------------- ---- 13.1/14.8 MB 426.1 kB/s eta 0:00:04\n",
      "   ----------------------------------- ---- 13.1/14.8 MB 426.1 kB/s eta 0:00:04\n",
      "   ------------------------------------ --- 13.4/14.8 MB 421.4 kB/s eta 0:00:04\n",
      "   ------------------------------------ --- 13.4/14.8 MB 421.4 kB/s eta 0:00:04\n",
      "   ------------------------------------ --- 13.6/14.8 MB 432.3 kB/s eta 0:00:03\n",
      "   ------------------------------------ --- 13.6/14.8 MB 432.3 kB/s eta 0:00:03\n",
      "   ------------------------------------- -- 13.9/14.8 MB 435.6 kB/s eta 0:00:03\n",
      "   -------------------------------------- - 14.2/14.8 MB 440.8 kB/s eta 0:00:02\n",
      "   -------------------------------------- - 14.4/14.8 MB 446.4 kB/s eta 0:00:01\n",
      "   ---------------------------------------  14.7/14.8 MB 452.0 kB/s eta 0:00:01\n",
      "   ---------------------------------------- 14.8/14.8 MB 453.9 kB/s eta 0:00:00\n",
      "Downloading narwhals-1.27.1-py3-none-any.whl (308 kB)\n",
      "Installing collected packages: narwhals, plotly\n",
      "Successfully installed narwhals-1.27.1 plotly-6.0.0\n"
     ]
    },
    {
     "name": "stderr",
     "output_type": "stream",
     "text": [
      "WARNING: Retrying (Retry(total=4, connect=None, read=None, redirect=None, status=None)) after connection broken by 'NewConnectionError('<pip._vendor.urllib3.connection.HTTPSConnection object at 0x000001CDB51CD430>: Failed to establish a new connection: [Errno 11001] getaddrinfo failed')': /simple/plotly/\n",
      "WARNING: Retrying (Retry(total=3, connect=None, read=None, redirect=None, status=None)) after connection broken by 'NewConnectionError('<pip._vendor.urllib3.connection.HTTPSConnection object at 0x000001CDB5F6A570>: Failed to establish a new connection: [Errno 11001] getaddrinfo failed')': /simple/plotly/\n",
      "WARNING: Retrying (Retry(total=2, connect=None, read=None, redirect=None, status=None)) after connection broken by 'NewConnectionError('<pip._vendor.urllib3.connection.HTTPSConnection object at 0x000001CDB63BC650>: Failed to establish a new connection: [Errno 11001] getaddrinfo failed')': /simple/plotly/\n",
      "WARNING: Retrying (Retry(total=1, connect=None, read=None, redirect=None, status=None)) after connection broken by 'NewConnectionError('<pip._vendor.urllib3.connection.HTTPSConnection object at 0x000001CDB63BC5F0>: Failed to establish a new connection: [Errno 11001] getaddrinfo failed')': /simple/plotly/\n",
      "WARNING: Retrying (Retry(total=0, connect=None, read=None, redirect=None, status=None)) after connection broken by 'NewConnectionError('<pip._vendor.urllib3.connection.HTTPSConnection object at 0x000001CDB63BC860>: Failed to establish a new connection: [Errno 11001] getaddrinfo failed')': /simple/plotly/\n",
      "\n",
      "[notice] A new release of pip is available: 24.2 -> 25.0.1\n",
      "[notice] To update, run: python.exe -m pip install --upgrade pip\n"
     ]
    }
   ],
   "source": [
    "!pip install plotly\n"
   ]
  },
  {
   "cell_type": "code",
   "execution_count": 6,
   "metadata": {},
   "outputs": [
    {
     "data": {
      "application/vnd.plotly.v1+json": {
       "config": {
        "plotlyServerURL": "https://plot.ly"
       },
       "data": [
        {
         "hovertemplate": "<b>%{hovertext}</b><br><br>country=India<br>year=1952<br>gdp_per_capita=%{x}<br>life_expectancy=%{y}<br>population=%{marker.size}<extra></extra>",
         "hovertext": [
          "India"
         ],
         "ids": [
          "India"
         ],
         "legendgroup": "India",
         "marker": {
          "color": "#636efa",
          "size": {
           "bdata": "AEUsFg==",
           "dtype": "i4"
          },
          "sizemode": "area",
          "sizeref": 366300.86,
          "symbol": "circle"
         },
         "mode": "markers",
         "name": "India",
         "orientation": "v",
         "showlegend": true,
         "type": "scatter",
         "x": {
          "bdata": "w/UoXI8UgUA=",
          "dtype": "f8"
         },
         "xaxis": "x",
         "y": {
          "bdata": "j8L1KFyvQkA=",
          "dtype": "f8"
         },
         "yaxis": "y"
        },
        {
         "hovertemplate": "<b>%{hovertext}</b><br><br>country=USA<br>year=1952<br>gdp_per_capita=%{x}<br>life_expectancy=%{y}<br>population=%{marker.size}<extra></extra>",
         "hovertext": [
          "USA"
         ],
         "ids": [
          "USA"
         ],
         "legendgroup": "USA",
         "marker": {
          "color": "#EF553B",
          "size": {
           "bdata": "aBFkCQ==",
           "dtype": "i4"
          },
          "sizemode": "area",
          "sizeref": 366300.86,
          "symbol": "circle"
         },
         "mode": "markers",
         "name": "USA",
         "orientation": "v",
         "showlegend": true,
         "type": "scatter",
         "x": {
          "bdata": "CtejcD1Ty0A=",
          "dtype": "f8"
         },
         "xaxis": "x",
         "y": {
          "bdata": "XI/C9SgcUUA=",
          "dtype": "f8"
         },
         "yaxis": "y"
        },
        {
         "hovertemplate": "<b>%{hovertext}</b><br><br>country=China<br>year=1952<br>gdp_per_capita=%{x}<br>life_expectancy=%{y}<br>population=%{marker.size}<extra></extra>",
         "hovertext": [
          "China"
         ],
         "ids": [
          "China"
         ],
         "legendgroup": "China",
         "marker": {
          "color": "#00cc96",
          "size": {
           "bdata": "aOgnIQ==",
           "dtype": "i4"
          },
          "sizemode": "area",
          "sizeref": 366300.86,
          "symbol": "circle"
         },
         "mode": "markers",
         "name": "China",
         "orientation": "v",
         "showlegend": true,
         "type": "scatter",
         "x": {
          "bdata": "MzMzMzMHeUA=",
          "dtype": "f8"
         },
         "xaxis": "x",
         "y": {
          "bdata": "AAAAAAAARkA=",
          "dtype": "f8"
         },
         "yaxis": "y"
        },
        {
         "hovertemplate": "<b>%{hovertext}</b><br><br>country=Brazil<br>year=1952<br>gdp_per_capita=%{x}<br>life_expectancy=%{y}<br>population=%{marker.size}<extra></extra>",
         "hovertext": [
          "Brazil"
         ],
         "ids": [
          "Brazil"
         ],
         "legendgroup": "Brazil",
         "marker": {
          "color": "#ab63fa",
          "size": {
           "bdata": "wK9fAw==",
           "dtype": "i4"
          },
          "sizemode": "area",
          "sizeref": 366300.86,
          "symbol": "circle"
         },
         "mode": "markers",
         "name": "Brazil",
         "orientation": "v",
         "showlegend": true,
         "type": "scatter",
         "x": {
          "bdata": "KVyPwvV4oEA=",
          "dtype": "f8"
         },
         "xaxis": "x",
         "y": {
          "bdata": "9ihcj8J1SUA=",
          "dtype": "f8"
         },
         "yaxis": "y"
        }
       ],
       "frames": [
        {
         "data": [
          {
           "hovertemplate": "<b>%{hovertext}</b><br><br>country=India<br>year=1952<br>gdp_per_capita=%{x}<br>life_expectancy=%{y}<br>population=%{marker.size}<extra></extra>",
           "hovertext": [
            "India"
           ],
           "ids": [
            "India"
           ],
           "legendgroup": "India",
           "marker": {
            "color": "#636efa",
            "size": {
             "bdata": "AEUsFg==",
             "dtype": "i4"
            },
            "sizemode": "area",
            "sizeref": 366300.86,
            "symbol": "circle"
           },
           "mode": "markers",
           "name": "India",
           "orientation": "v",
           "showlegend": true,
           "type": "scatter",
           "x": {
            "bdata": "w/UoXI8UgUA=",
            "dtype": "f8"
           },
           "xaxis": "x",
           "y": {
            "bdata": "j8L1KFyvQkA=",
            "dtype": "f8"
           },
           "yaxis": "y"
          },
          {
           "hovertemplate": "<b>%{hovertext}</b><br><br>country=USA<br>year=1952<br>gdp_per_capita=%{x}<br>life_expectancy=%{y}<br>population=%{marker.size}<extra></extra>",
           "hovertext": [
            "USA"
           ],
           "ids": [
            "USA"
           ],
           "legendgroup": "USA",
           "marker": {
            "color": "#EF553B",
            "size": {
             "bdata": "aBFkCQ==",
             "dtype": "i4"
            },
            "sizemode": "area",
            "sizeref": 366300.86,
            "symbol": "circle"
           },
           "mode": "markers",
           "name": "USA",
           "orientation": "v",
           "showlegend": true,
           "type": "scatter",
           "x": {
            "bdata": "CtejcD1Ty0A=",
            "dtype": "f8"
           },
           "xaxis": "x",
           "y": {
            "bdata": "XI/C9SgcUUA=",
            "dtype": "f8"
           },
           "yaxis": "y"
          },
          {
           "hovertemplate": "<b>%{hovertext}</b><br><br>country=China<br>year=1952<br>gdp_per_capita=%{x}<br>life_expectancy=%{y}<br>population=%{marker.size}<extra></extra>",
           "hovertext": [
            "China"
           ],
           "ids": [
            "China"
           ],
           "legendgroup": "China",
           "marker": {
            "color": "#00cc96",
            "size": {
             "bdata": "aOgnIQ==",
             "dtype": "i4"
            },
            "sizemode": "area",
            "sizeref": 366300.86,
            "symbol": "circle"
           },
           "mode": "markers",
           "name": "China",
           "orientation": "v",
           "showlegend": true,
           "type": "scatter",
           "x": {
            "bdata": "MzMzMzMHeUA=",
            "dtype": "f8"
           },
           "xaxis": "x",
           "y": {
            "bdata": "AAAAAAAARkA=",
            "dtype": "f8"
           },
           "yaxis": "y"
          },
          {
           "hovertemplate": "<b>%{hovertext}</b><br><br>country=Brazil<br>year=1952<br>gdp_per_capita=%{x}<br>life_expectancy=%{y}<br>population=%{marker.size}<extra></extra>",
           "hovertext": [
            "Brazil"
           ],
           "ids": [
            "Brazil"
           ],
           "legendgroup": "Brazil",
           "marker": {
            "color": "#ab63fa",
            "size": {
             "bdata": "wK9fAw==",
             "dtype": "i4"
            },
            "sizemode": "area",
            "sizeref": 366300.86,
            "symbol": "circle"
           },
           "mode": "markers",
           "name": "Brazil",
           "orientation": "v",
           "showlegend": true,
           "type": "scatter",
           "x": {
            "bdata": "KVyPwvV4oEA=",
            "dtype": "f8"
           },
           "xaxis": "x",
           "y": {
            "bdata": "9ihcj8J1SUA=",
            "dtype": "f8"
           },
           "yaxis": "y"
          }
         ],
         "name": "1952"
        },
        {
         "data": [
          {
           "hovertemplate": "<b>%{hovertext}</b><br><br>country=India<br>year=2007<br>gdp_per_capita=%{x}<br>life_expectancy=%{y}<br>population=%{marker.size}<extra></extra>",
           "hovertext": [
            "India"
           ],
           "ids": [
            "India"
           ],
           "legendgroup": "India",
           "marker": {
            "color": "#636efa",
            "size": {
             "bdata": "gEEpQg==",
             "dtype": "i4"
            },
            "sizemode": "area",
            "sizeref": 366300.86,
            "symbol": "circle"
           },
           "mode": "markers",
           "name": "India",
           "orientation": "v",
           "showlegend": true,
           "type": "scatter",
           "x": {
            "bdata": "UrgehWsoo0A=",
            "dtype": "f8"
           },
           "xaxis": "x",
           "y": {
            "bdata": "zczMzMwsUEA=",
            "dtype": "f8"
           },
           "yaxis": "y"
          },
          {
           "hovertemplate": "<b>%{hovertext}</b><br><br>country=USA<br>year=2007<br>gdp_per_capita=%{x}<br>life_expectancy=%{y}<br>population=%{marker.size}<extra></extra>",
           "hovertext": [
            "USA"
           ],
           "ids": [
            "USA"
           ],
           "legendgroup": "USA",
           "marker": {
            "color": "#EF553B",
            "size": {
             "bdata": "6wfzEQ==",
             "dtype": "i4"
            },
            "sizemode": "area",
            "sizeref": 366300.86,
            "symbol": "circle"
           },
           "mode": "markers",
           "name": "USA",
           "orientation": "v",
           "showlegend": true,
           "type": "scatter",
           "x": {
            "bdata": "zczMzPT45EA=",
            "dtype": "f8"
           },
           "xaxis": "x",
           "y": {
            "bdata": "j8L1KFyPU0A=",
            "dtype": "f8"
           },
           "yaxis": "y"
          },
          {
           "hovertemplate": "<b>%{hovertext}</b><br><br>country=China<br>year=2007<br>gdp_per_capita=%{x}<br>life_expectancy=%{y}<br>population=%{marker.size}<extra></extra>",
           "hovertext": [
            "China"
           ],
           "ids": [
            "China"
           ],
           "legendgroup": "China",
           "marker": {
            "color": "#00cc96",
            "size": {
             "bdata": "2IGZTg==",
             "dtype": "i4"
            },
            "sizemode": "area",
            "sizeref": 366300.86,
            "symbol": "circle"
           },
           "mode": "markers",
           "name": "China",
           "orientation": "v",
           "showlegend": true,
           "type": "scatter",
           "x": {
            "bdata": "j8L1KBxfs0A=",
            "dtype": "f8"
           },
           "xaxis": "x",
           "y": {
            "bdata": "PQrXo3A9UkA=",
            "dtype": "f8"
           },
           "yaxis": "y"
          },
          {
           "hovertemplate": "<b>%{hovertext}</b><br><br>country=Brazil<br>year=2007<br>gdp_per_capita=%{x}<br>life_expectancy=%{y}<br>population=%{marker.size}<extra></extra>",
           "hovertext": [
            "Brazil"
           ],
           "ids": [
            "Brazil"
           ],
           "legendgroup": "Brazil",
           "marker": {
            "color": "#ab63fa",
            "size": {
             "bdata": "F1VTCw==",
             "dtype": "i4"
            },
            "sizemode": "area",
            "sizeref": 366300.86,
            "symbol": "circle"
           },
           "mode": "markers",
           "name": "Brazil",
           "orientation": "v",
           "showlegend": true,
           "type": "scatter",
           "x": {
            "bdata": "ZmZmZua0wUA=",
            "dtype": "f8"
           },
           "xaxis": "x",
           "y": {
            "bdata": "KVyPwvUYUkA=",
            "dtype": "f8"
           },
           "yaxis": "y"
          }
         ],
         "name": "2007"
        }
       ],
       "layout": {
        "legend": {
         "itemsizing": "constant",
         "title": {
          "text": "country"
         },
         "tracegroupgap": 0
        },
        "sliders": [
         {
          "active": 0,
          "currentvalue": {
           "prefix": "year="
          },
          "len": 0.9,
          "pad": {
           "b": 10,
           "t": 60
          },
          "steps": [
           {
            "args": [
             [
              "1952"
             ],
             {
              "frame": {
               "duration": 0,
               "redraw": false
              },
              "fromcurrent": true,
              "mode": "immediate",
              "transition": {
               "duration": 0,
               "easing": "linear"
              }
             }
            ],
            "label": "1952",
            "method": "animate"
           },
           {
            "args": [
             [
              "2007"
             ],
             {
              "frame": {
               "duration": 0,
               "redraw": false
              },
              "fromcurrent": true,
              "mode": "immediate",
              "transition": {
               "duration": 0,
               "easing": "linear"
              }
             }
            ],
            "label": "2007",
            "method": "animate"
           }
          ],
          "x": 0.1,
          "xanchor": "left",
          "y": 0,
          "yanchor": "top"
         }
        ],
        "template": {
         "data": {
          "bar": [
           {
            "error_x": {
             "color": "#2a3f5f"
            },
            "error_y": {
             "color": "#2a3f5f"
            },
            "marker": {
             "line": {
              "color": "#E5ECF6",
              "width": 0.5
             },
             "pattern": {
              "fillmode": "overlay",
              "size": 10,
              "solidity": 0.2
             }
            },
            "type": "bar"
           }
          ],
          "barpolar": [
           {
            "marker": {
             "line": {
              "color": "#E5ECF6",
              "width": 0.5
             },
             "pattern": {
              "fillmode": "overlay",
              "size": 10,
              "solidity": 0.2
             }
            },
            "type": "barpolar"
           }
          ],
          "carpet": [
           {
            "aaxis": {
             "endlinecolor": "#2a3f5f",
             "gridcolor": "white",
             "linecolor": "white",
             "minorgridcolor": "white",
             "startlinecolor": "#2a3f5f"
            },
            "baxis": {
             "endlinecolor": "#2a3f5f",
             "gridcolor": "white",
             "linecolor": "white",
             "minorgridcolor": "white",
             "startlinecolor": "#2a3f5f"
            },
            "type": "carpet"
           }
          ],
          "choropleth": [
           {
            "colorbar": {
             "outlinewidth": 0,
             "ticks": ""
            },
            "type": "choropleth"
           }
          ],
          "contour": [
           {
            "colorbar": {
             "outlinewidth": 0,
             "ticks": ""
            },
            "colorscale": [
             [
              0,
              "#0d0887"
             ],
             [
              0.1111111111111111,
              "#46039f"
             ],
             [
              0.2222222222222222,
              "#7201a8"
             ],
             [
              0.3333333333333333,
              "#9c179e"
             ],
             [
              0.4444444444444444,
              "#bd3786"
             ],
             [
              0.5555555555555556,
              "#d8576b"
             ],
             [
              0.6666666666666666,
              "#ed7953"
             ],
             [
              0.7777777777777778,
              "#fb9f3a"
             ],
             [
              0.8888888888888888,
              "#fdca26"
             ],
             [
              1,
              "#f0f921"
             ]
            ],
            "type": "contour"
           }
          ],
          "contourcarpet": [
           {
            "colorbar": {
             "outlinewidth": 0,
             "ticks": ""
            },
            "type": "contourcarpet"
           }
          ],
          "heatmap": [
           {
            "colorbar": {
             "outlinewidth": 0,
             "ticks": ""
            },
            "colorscale": [
             [
              0,
              "#0d0887"
             ],
             [
              0.1111111111111111,
              "#46039f"
             ],
             [
              0.2222222222222222,
              "#7201a8"
             ],
             [
              0.3333333333333333,
              "#9c179e"
             ],
             [
              0.4444444444444444,
              "#bd3786"
             ],
             [
              0.5555555555555556,
              "#d8576b"
             ],
             [
              0.6666666666666666,
              "#ed7953"
             ],
             [
              0.7777777777777778,
              "#fb9f3a"
             ],
             [
              0.8888888888888888,
              "#fdca26"
             ],
             [
              1,
              "#f0f921"
             ]
            ],
            "type": "heatmap"
           }
          ],
          "histogram": [
           {
            "marker": {
             "pattern": {
              "fillmode": "overlay",
              "size": 10,
              "solidity": 0.2
             }
            },
            "type": "histogram"
           }
          ],
          "histogram2d": [
           {
            "colorbar": {
             "outlinewidth": 0,
             "ticks": ""
            },
            "colorscale": [
             [
              0,
              "#0d0887"
             ],
             [
              0.1111111111111111,
              "#46039f"
             ],
             [
              0.2222222222222222,
              "#7201a8"
             ],
             [
              0.3333333333333333,
              "#9c179e"
             ],
             [
              0.4444444444444444,
              "#bd3786"
             ],
             [
              0.5555555555555556,
              "#d8576b"
             ],
             [
              0.6666666666666666,
              "#ed7953"
             ],
             [
              0.7777777777777778,
              "#fb9f3a"
             ],
             [
              0.8888888888888888,
              "#fdca26"
             ],
             [
              1,
              "#f0f921"
             ]
            ],
            "type": "histogram2d"
           }
          ],
          "histogram2dcontour": [
           {
            "colorbar": {
             "outlinewidth": 0,
             "ticks": ""
            },
            "colorscale": [
             [
              0,
              "#0d0887"
             ],
             [
              0.1111111111111111,
              "#46039f"
             ],
             [
              0.2222222222222222,
              "#7201a8"
             ],
             [
              0.3333333333333333,
              "#9c179e"
             ],
             [
              0.4444444444444444,
              "#bd3786"
             ],
             [
              0.5555555555555556,
              "#d8576b"
             ],
             [
              0.6666666666666666,
              "#ed7953"
             ],
             [
              0.7777777777777778,
              "#fb9f3a"
             ],
             [
              0.8888888888888888,
              "#fdca26"
             ],
             [
              1,
              "#f0f921"
             ]
            ],
            "type": "histogram2dcontour"
           }
          ],
          "mesh3d": [
           {
            "colorbar": {
             "outlinewidth": 0,
             "ticks": ""
            },
            "type": "mesh3d"
           }
          ],
          "parcoords": [
           {
            "line": {
             "colorbar": {
              "outlinewidth": 0,
              "ticks": ""
             }
            },
            "type": "parcoords"
           }
          ],
          "pie": [
           {
            "automargin": true,
            "type": "pie"
           }
          ],
          "scatter": [
           {
            "fillpattern": {
             "fillmode": "overlay",
             "size": 10,
             "solidity": 0.2
            },
            "type": "scatter"
           }
          ],
          "scatter3d": [
           {
            "line": {
             "colorbar": {
              "outlinewidth": 0,
              "ticks": ""
             }
            },
            "marker": {
             "colorbar": {
              "outlinewidth": 0,
              "ticks": ""
             }
            },
            "type": "scatter3d"
           }
          ],
          "scattercarpet": [
           {
            "marker": {
             "colorbar": {
              "outlinewidth": 0,
              "ticks": ""
             }
            },
            "type": "scattercarpet"
           }
          ],
          "scattergeo": [
           {
            "marker": {
             "colorbar": {
              "outlinewidth": 0,
              "ticks": ""
             }
            },
            "type": "scattergeo"
           }
          ],
          "scattergl": [
           {
            "marker": {
             "colorbar": {
              "outlinewidth": 0,
              "ticks": ""
             }
            },
            "type": "scattergl"
           }
          ],
          "scattermap": [
           {
            "marker": {
             "colorbar": {
              "outlinewidth": 0,
              "ticks": ""
             }
            },
            "type": "scattermap"
           }
          ],
          "scattermapbox": [
           {
            "marker": {
             "colorbar": {
              "outlinewidth": 0,
              "ticks": ""
             }
            },
            "type": "scattermapbox"
           }
          ],
          "scatterpolar": [
           {
            "marker": {
             "colorbar": {
              "outlinewidth": 0,
              "ticks": ""
             }
            },
            "type": "scatterpolar"
           }
          ],
          "scatterpolargl": [
           {
            "marker": {
             "colorbar": {
              "outlinewidth": 0,
              "ticks": ""
             }
            },
            "type": "scatterpolargl"
           }
          ],
          "scatterternary": [
           {
            "marker": {
             "colorbar": {
              "outlinewidth": 0,
              "ticks": ""
             }
            },
            "type": "scatterternary"
           }
          ],
          "surface": [
           {
            "colorbar": {
             "outlinewidth": 0,
             "ticks": ""
            },
            "colorscale": [
             [
              0,
              "#0d0887"
             ],
             [
              0.1111111111111111,
              "#46039f"
             ],
             [
              0.2222222222222222,
              "#7201a8"
             ],
             [
              0.3333333333333333,
              "#9c179e"
             ],
             [
              0.4444444444444444,
              "#bd3786"
             ],
             [
              0.5555555555555556,
              "#d8576b"
             ],
             [
              0.6666666666666666,
              "#ed7953"
             ],
             [
              0.7777777777777778,
              "#fb9f3a"
             ],
             [
              0.8888888888888888,
              "#fdca26"
             ],
             [
              1,
              "#f0f921"
             ]
            ],
            "type": "surface"
           }
          ],
          "table": [
           {
            "cells": {
             "fill": {
              "color": "#EBF0F8"
             },
             "line": {
              "color": "white"
             }
            },
            "header": {
             "fill": {
              "color": "#C8D4E3"
             },
             "line": {
              "color": "white"
             }
            },
            "type": "table"
           }
          ]
         },
         "layout": {
          "annotationdefaults": {
           "arrowcolor": "#2a3f5f",
           "arrowhead": 0,
           "arrowwidth": 1
          },
          "autotypenumbers": "strict",
          "coloraxis": {
           "colorbar": {
            "outlinewidth": 0,
            "ticks": ""
           }
          },
          "colorscale": {
           "diverging": [
            [
             0,
             "#8e0152"
            ],
            [
             0.1,
             "#c51b7d"
            ],
            [
             0.2,
             "#de77ae"
            ],
            [
             0.3,
             "#f1b6da"
            ],
            [
             0.4,
             "#fde0ef"
            ],
            [
             0.5,
             "#f7f7f7"
            ],
            [
             0.6,
             "#e6f5d0"
            ],
            [
             0.7,
             "#b8e186"
            ],
            [
             0.8,
             "#7fbc41"
            ],
            [
             0.9,
             "#4d9221"
            ],
            [
             1,
             "#276419"
            ]
           ],
           "sequential": [
            [
             0,
             "#0d0887"
            ],
            [
             0.1111111111111111,
             "#46039f"
            ],
            [
             0.2222222222222222,
             "#7201a8"
            ],
            [
             0.3333333333333333,
             "#9c179e"
            ],
            [
             0.4444444444444444,
             "#bd3786"
            ],
            [
             0.5555555555555556,
             "#d8576b"
            ],
            [
             0.6666666666666666,
             "#ed7953"
            ],
            [
             0.7777777777777778,
             "#fb9f3a"
            ],
            [
             0.8888888888888888,
             "#fdca26"
            ],
            [
             1,
             "#f0f921"
            ]
           ],
           "sequentialminus": [
            [
             0,
             "#0d0887"
            ],
            [
             0.1111111111111111,
             "#46039f"
            ],
            [
             0.2222222222222222,
             "#7201a8"
            ],
            [
             0.3333333333333333,
             "#9c179e"
            ],
            [
             0.4444444444444444,
             "#bd3786"
            ],
            [
             0.5555555555555556,
             "#d8576b"
            ],
            [
             0.6666666666666666,
             "#ed7953"
            ],
            [
             0.7777777777777778,
             "#fb9f3a"
            ],
            [
             0.8888888888888888,
             "#fdca26"
            ],
            [
             1,
             "#f0f921"
            ]
           ]
          },
          "colorway": [
           "#636efa",
           "#EF553B",
           "#00cc96",
           "#ab63fa",
           "#FFA15A",
           "#19d3f3",
           "#FF6692",
           "#B6E880",
           "#FF97FF",
           "#FECB52"
          ],
          "font": {
           "color": "#2a3f5f"
          },
          "geo": {
           "bgcolor": "white",
           "lakecolor": "white",
           "landcolor": "#E5ECF6",
           "showlakes": true,
           "showland": true,
           "subunitcolor": "white"
          },
          "hoverlabel": {
           "align": "left"
          },
          "hovermode": "closest",
          "mapbox": {
           "style": "light"
          },
          "paper_bgcolor": "white",
          "plot_bgcolor": "#E5ECF6",
          "polar": {
           "angularaxis": {
            "gridcolor": "white",
            "linecolor": "white",
            "ticks": ""
           },
           "bgcolor": "#E5ECF6",
           "radialaxis": {
            "gridcolor": "white",
            "linecolor": "white",
            "ticks": ""
           }
          },
          "scene": {
           "xaxis": {
            "backgroundcolor": "#E5ECF6",
            "gridcolor": "white",
            "gridwidth": 2,
            "linecolor": "white",
            "showbackground": true,
            "ticks": "",
            "zerolinecolor": "white"
           },
           "yaxis": {
            "backgroundcolor": "#E5ECF6",
            "gridcolor": "white",
            "gridwidth": 2,
            "linecolor": "white",
            "showbackground": true,
            "ticks": "",
            "zerolinecolor": "white"
           },
           "zaxis": {
            "backgroundcolor": "#E5ECF6",
            "gridcolor": "white",
            "gridwidth": 2,
            "linecolor": "white",
            "showbackground": true,
            "ticks": "",
            "zerolinecolor": "white"
           }
          },
          "shapedefaults": {
           "line": {
            "color": "#2a3f5f"
           }
          },
          "ternary": {
           "aaxis": {
            "gridcolor": "white",
            "linecolor": "white",
            "ticks": ""
           },
           "baxis": {
            "gridcolor": "white",
            "linecolor": "white",
            "ticks": ""
           },
           "bgcolor": "#E5ECF6",
           "caxis": {
            "gridcolor": "white",
            "linecolor": "white",
            "ticks": ""
           }
          },
          "title": {
           "x": 0.05
          },
          "xaxis": {
           "automargin": true,
           "gridcolor": "white",
           "linecolor": "white",
           "ticks": "",
           "title": {
            "standoff": 15
           },
           "zerolinecolor": "white",
           "zerolinewidth": 2
          },
          "yaxis": {
           "automargin": true,
           "gridcolor": "white",
           "linecolor": "white",
           "ticks": "",
           "title": {
            "standoff": 15
           },
           "zerolinecolor": "white",
           "zerolinewidth": 2
          }
         }
        },
        "title": {
         "text": "Hans Rosling’s Animated Bubble Chart"
        },
        "updatemenus": [
         {
          "buttons": [
           {
            "args": [
             null,
             {
              "frame": {
               "duration": 500,
               "redraw": false
              },
              "fromcurrent": true,
              "mode": "immediate",
              "transition": {
               "duration": 500,
               "easing": "linear"
              }
             }
            ],
            "label": "&#9654;",
            "method": "animate"
           },
           {
            "args": [
             [
              null
             ],
             {
              "frame": {
               "duration": 0,
               "redraw": false
              },
              "fromcurrent": true,
              "mode": "immediate",
              "transition": {
               "duration": 0,
               "easing": "linear"
              }
             }
            ],
            "label": "&#9724;",
            "method": "animate"
           }
          ],
          "direction": "left",
          "pad": {
           "r": 10,
           "t": 70
          },
          "showactive": false,
          "type": "buttons",
          "x": 0.1,
          "xanchor": "right",
          "y": 0,
          "yanchor": "top"
         }
        ],
        "xaxis": {
         "anchor": "y",
         "domain": [
          0,
          1
         ],
         "title": {
          "text": "gdp_per_capita"
         },
         "type": "log"
        },
        "yaxis": {
         "anchor": "x",
         "domain": [
          0,
          1
         ],
         "title": {
          "text": "life_expectancy"
         }
        }
       }
      }
     },
     "metadata": {},
     "output_type": "display_data"
    }
   ],
   "source": [
    "import pandas as pd\n",
    "import plotly.express as px\n",
    "\n",
    "# Load the dataset\n",
    "df = pd.read_csv(\"c:/Users/shruthi/Downloads/gapminder_data.csv\")\n",
    "\n",
    "# Create the animated Bubble Chart\n",
    "fig = px.scatter(df, \n",
    "                 x=\"gdp_per_capita\", \n",
    "                 y=\"life_expectancy\", \n",
    "                 size=\"population\", \n",
    "                 color=\"country\",\n",
    "                 hover_name=\"country\", \n",
    "                 animation_frame=\"year\", \n",
    "                 animation_group=\"country\",\n",
    "                 log_x=True,  # Log scale for better visualization\n",
    "                 size_max=60, \n",
    "                 title=\"Hans Rosling’s Animated Bubble Chart\")\n",
    "\n",
    "# Show the chart\n",
    "fig.show()\n"
   ]
  }
 ],
 "metadata": {
  "kernelspec": {
   "display_name": "Python 3",
   "language": "python",
   "name": "python3"
  },
  "language_info": {
   "codemirror_mode": {
    "name": "ipython",
    "version": 3
   },
   "file_extension": ".py",
   "mimetype": "text/x-python",
   "name": "python",
   "nbconvert_exporter": "python",
   "pygments_lexer": "ipython3",
   "version": "3.12.6"
  }
 },
 "nbformat": 4,
 "nbformat_minor": 2
}
