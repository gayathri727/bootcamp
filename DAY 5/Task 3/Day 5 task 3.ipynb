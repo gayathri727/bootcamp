{
 "cells": [
  {
   "cell_type": "code",
   "execution_count": 1,
   "metadata": {},
   "outputs": [
    {
     "name": "stdout",
     "output_type": "stream",
     "text": [
      "Feature Names: ['chatgpt' 'deep' 'first' 'in' 'is' 'language' 'large' 'learning' 'like'\n",
      " 'llms' 'model' 'nlp' 'step' 'the' 'use' 'vectorization']\n",
      "Bag of Words Matrix:\n",
      " [[1 0 0 0 1 1 1 0 0 0 1 0 0 0 0 0]\n",
      " [1 1 0 0 0 0 0 1 1 1 0 0 0 0 1 0]\n",
      " [0 0 1 1 1 0 0 0 0 0 0 1 1 1 0 1]]\n"
     ]
    }
   ],
   "source": [
    "from sklearn.feature_extraction.text import CountVectorizer\n",
    "\n",
    "# Sample Text Data\n",
    "documents = [\n",
    "    \"ChatGPT is a large language model.\",\n",
    "    \"LLMs like ChatGPT use deep learning.\",\n",
    "    \"Vectorization is the first step in NLP.\"\n",
    "]\n",
    "\n",
    "# Initialize CountVectorizer\n",
    "vectorizer = CountVectorizer()\n",
    "\n",
    "# Fit and Transform the text data\n",
    "X = vectorizer.fit_transform(documents)\n",
    "\n",
    "# Convert to an array and display\n",
    "print(\"Feature Names:\", vectorizer.get_feature_names_out())\n",
    "print(\"Bag of Words Matrix:\\n\", X.toarray())\n"
   ]
  },
  {
   "cell_type": "code",
   "execution_count": 3,
   "metadata": {},
   "outputs": [
    {
     "name": "stdout",
     "output_type": "stream",
     "text": [
      "Feature Names: ['chatgpt' 'deep' 'first' 'in' 'is' 'language' 'large' 'learning' 'like'\n",
      " 'llms' 'model' 'nlp' 'step' 'the' 'use' 'vectorization']\n",
      "TF-IDF Matrix:\n",
      " [[0.37302199 0.         0.         0.         0.37302199 0.49047908\n",
      "  0.49047908 0.         0.         0.         0.49047908 0.\n",
      "  0.         0.         0.         0.        ]\n",
      " [0.32200242 0.42339448 0.         0.         0.         0.\n",
      "  0.         0.42339448 0.42339448 0.42339448 0.         0.\n",
      "  0.         0.         0.42339448 0.        ]\n",
      " [0.         0.         0.38988801 0.38988801 0.29651988 0.\n",
      "  0.         0.         0.         0.         0.         0.38988801\n",
      "  0.38988801 0.38988801 0.         0.38988801]]\n"
     ]
    }
   ],
   "source": [
    "from sklearn.feature_extraction.text import TfidfVectorizer\n",
    "\n",
    "# Initialize TfidfVectorizer\n",
    "tfidf_vectorizer = TfidfVectorizer()\n",
    "\n",
    "# Fit and Transform the text data\n",
    "X_tfidf = tfidf_vectorizer.fit_transform(documents)\n",
    "\n",
    "# Convert to an array and display\n",
    "print(\"Feature Names:\", tfidf_vectorizer.get_feature_names_out())\n",
    "print(\"TF-IDF Matrix:\\n\", X_tfidf.toarray())\n"
   ]
  }
 ],
 "metadata": {
  "kernelspec": {
   "display_name": "Python 3",
   "language": "python",
   "name": "python3"
  },
  "language_info": {
   "codemirror_mode": {
    "name": "ipython",
    "version": 3
   },
   "file_extension": ".py",
   "mimetype": "text/x-python",
   "name": "python",
   "nbconvert_exporter": "python",
   "pygments_lexer": "ipython3",
   "version": "3.12.6"
  }
 },
 "nbformat": 4,
 "nbformat_minor": 2
}
