{
 "cells": [
  {
   "cell_type": "code",
   "execution_count": 2,
   "metadata": {},
   "outputs": [
    {
     "name": "stdout",
     "output_type": "stream",
     "text": [
      "   Bowler Batter  Ball Type Shot Type  Speed (km/h)  Runs\n",
      "0  Bumrah  Kohli     Yorker      Four           145     4\n",
      "1   Shami  Smith    Bouncer    single           140     1\n",
      "2   Starc  Rohit  Full Toss       Six           147     6\n",
      "3  Bumrah  Rohit     Yorker  defended           145     0\n"
     ]
    }
   ],
   "source": [
    "import pandas as pd\n",
    "import re\n",
    "import matplotlib.pyplot as plt\n",
    "\n",
    "# Sample Commentary Data\n",
    "commentary = [\n",
    "    \"Bumrah to Kohli, Yorker, 145 km/h, smashed for a Four!\",\n",
    "    \"Shami to Smith, Bouncer, 140 km/h, single taken.\",\n",
    "    \"Starc to Rohit, Full Toss, 147 km/h, Six!\",\n",
    "    \"Bumrah to Rohit, Yorker, 145 km/h, defended solidly.\",\n",
    "]\n",
    "\n",
    "# Regex patterns\n",
    "bowler_pattern = r'^(\\w+)'  # First word (Bowler)\n",
    "batter_pattern = r'(\\w+), '  # Word before comma (Batter)\n",
    "ball_type_pattern = r'(Yorker|Bouncer|Full Toss)'  # Ball type\n",
    "speed_pattern = r'(\\d{3}) km/h'  # Extract speed\n",
    "shot_type_pattern = r'(Four|Six|single|defended)'  # Shot type\n",
    "\n",
    "# Function to extract details\n",
    "def extract_details(comment):\n",
    "    bowler = re.search(bowler_pattern, comment).group(1)\n",
    "    batter = re.search(batter_pattern, comment).group(1)\n",
    "    ball_type = re.search(ball_type_pattern, comment)\n",
    "    speed = re.search(speed_pattern, comment)\n",
    "    shot_type = re.search(shot_type_pattern, comment)\n",
    "    \n",
    "    ball_type = ball_type.group(1) if ball_type else \"Unknown\"\n",
    "    speed = int(speed.group(1)) if speed else None\n",
    "    shot_type = shot_type.group(1) if shot_type else \"Unknown\"\n",
    "\n",
    "    # Assign runs based on shot type\n",
    "    runs = {\"Four\": 4, \"Six\": 6, \"single\": 1, \"defended\": 0}.get(shot_type, 0)\n",
    "    \n",
    "    return [bowler, batter, ball_type, shot_type, speed, runs]\n",
    "\n",
    "# Convert extracted data into DataFrame\n",
    "columns = [\"Bowler\", \"Batter\", \"Ball Type\", \"Shot Type\", \"Speed (km/h)\", \"Runs\"]\n",
    "data = [extract_details(comment) for comment in commentary]\n",
    "df = pd.DataFrame(data, columns=columns)\n",
    "\n",
    "# Print extracted table\n",
    "print(df)\n",
    "\n"
   ]
  }
 ],
 "metadata": {
  "kernelspec": {
   "display_name": "Python 3",
   "language": "python",
   "name": "python3"
  },
  "language_info": {
   "codemirror_mode": {
    "name": "ipython",
    "version": 3
   },
   "file_extension": ".py",
   "mimetype": "text/x-python",
   "name": "python",
   "nbconvert_exporter": "python",
   "pygments_lexer": "ipython3",
   "version": "3.12.6"
  }
 },
 "nbformat": 4,
 "nbformat_minor": 2
}
